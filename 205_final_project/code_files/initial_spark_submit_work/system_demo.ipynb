{
 "cells": [
  {
   "cell_type": "code",
   "execution_count": null,
   "metadata": {},
   "outputs": [],
   "source": [
    "import warnings\n",
    "warnings.filterwarnings('ignore')\n",
    "from utility import Utility as util\n",
    "import matplotlib.pyplot as plt\n",
    "import pandas as pd\n",
    "pd.options.display.max_columns = None\n",
    "#pd.set_option('display.max_colwidth', None)\n",
    "#pd.set_option('display.max_rows', None)\n",
    "import warnings\n",
    "import time\n",
    "import os\n",
    "#import pandasql as psql\n",
    "from IPython.core.display import Markdown as md\n",
    "warnings.filterwarnings('ignore')\n",
    "#from libraries.project_reports import project_reports\n",
    "#from libraries.utility import Utility as util\n",
    "mutil = util()\n",
    "#print(img_text_data)\n",
    "\n",
    "from IPython.core.display import display, HTML, Markdown, Latex\n",
    "display(HTML(\n",
    "    '<style>'\n",
    "        '#notebook { padding-top:0px !important; } ' \n",
    "        '.container { width:100% !important; } '\n",
    "        '.end_space { min-height:0px !important; } '\n",
    "        '.end_space { min-height:0px !important; } '\n",
    "        '.prompt {width: 0px; min-width: 0px; visibility: collapse } '\n",
    "        '.parent{'\n",
    "        '    display: grid;'\n",
    "        '    grid-template-columns: 1fr 1fr;'\n",
    "        '    column-gap: 5px;'\n",
    "        '}    '\n",
    "    '</style>'\n",
    "))\n",
    "\n",
    "img_path = os.path.join(mutil.get_this_dir(),\"artifacts\",\"images\",\"irwin_analytics_small.txt\")\n",
    "img_text_data = mutil.get_data_from_file(img_path)\n",
    "\n",
    "img_tag = \"<img align=\\\"left\\\" src=\\\"data:image/png;base64,{}\\\" />\".format(img_text_data)\n",
    "a_tag = \"<a href=\\\"https://www.irwinanalytics.com\\\" target=\\\"https://www.irwinanalytics.com\\\">{}</a>\".format(img_tag)\n",
    "\n",
    "my_html = \"<hr/>\".format(img_tag,a_tag)\n",
    "display(HTML(my_html))\n",
    "my_html = \"<div class='parent'><div>{}</div></div>\".format(a_tag)\n",
    "display(HTML(my_html))"
   ]
  },
  {
   "cell_type": "markdown",
   "metadata": {},
   "source": [
    "## System Overview -- The Environment"
   ]
  },
  {
   "cell_type": "markdown",
   "metadata": {},
   "source": [
    "Our streaming and transfomration solution is virtualized in this case.   \n",
    "\n",
    "We create this utilizing a [yaml](docker-compose.yml,yml) file under the docker-compose framework.\n",
    "\n",
    "\n"
   ]
  },
  {
   "cell_type": "code",
   "execution_count": null,
   "metadata": {},
   "outputs": [],
   "source": [
    "img_path = os.path.join(mutil.get_this_dir(),\"artifacts\",\"images\",\"docker_network.png\")\n",
    "\n",
    "img_tag = mutil.get_embedded_image_tag_from_image_file(img_path)\n",
    "\n",
    "my_html = \"<hr/>{}\".format(img_tag)\n",
    "display(HTML(my_html))\n"
   ]
  },
  {
   "cell_type": "markdown",
   "metadata": {},
   "source": [
    "## System Overview -- The data flow"
   ]
  },
  {
   "cell_type": "markdown",
   "metadata": {},
   "source": [
    "Below is a informal representation of the application's data flow."
   ]
  },
  {
   "cell_type": "code",
   "execution_count": null,
   "metadata": {},
   "outputs": [],
   "source": [
    "img_path = os.path.join(mutil.get_this_dir(),\"artifacts\",\"images\",\"streaming_visualization.jpg\")\n",
    "\n",
    "img_tag = mutil.get_embedded_image_tag_from_image_file(img_path)\n",
    "\n",
    "my_html = \"<hr/>{}\".format(img_tag)\n",
    "display(HTML(my_html))"
   ]
  },
  {
   "cell_type": "markdown",
   "metadata": {},
   "source": [
    "## Using Presto to Generate Reports"
   ]
  },
  {
   "cell_type": "markdown",
   "metadata": {},
   "source": [
    "To generate reports for those interested in application usage, we can use Presto via the PyHive connector to load our Hive tables into Pandas dataframes, transform the dataframes to answer our business questions, and then publish the reports as JSON files.\n",
    "\n",
    "Before we start, let's define two business questions that we would like to answer:\n",
    "\n",
    "1. What are all the counts per event type?\n",
    "2. What are all the parameters that were given for the `user` parameter?\n",
    "\n",
    "First, let's install the PyHive library."
   ]
  },
  {
   "cell_type": "code",
   "execution_count": null,
   "metadata": {},
   "outputs": [],
   "source": [
    "%%capture output\n",
    "!python3 -m pip install git+https://github.com/dropbox/PyHive.git >/dev/null"
   ]
  },
  {
   "cell_type": "markdown",
   "metadata": {},
   "source": [
    "Next, let's use PyHive to connect to Presto in code using the port that we exposed in our Docker Compose file. Once we connect, we can run a simple query to see all the tables that are created in Hive."
   ]
  },
  {
   "cell_type": "code",
   "execution_count": null,
   "metadata": {},
   "outputs": [],
   "source": [
    "from pyhive import presto\n",
    "import pandas as pd\n",
    "\n",
    "presto_conn = presto.connect(\n",
    "    host='presto',\n",
    "    port=8080 # Exposed Presto port (see docker compose file)\n",
    ")\n",
    "\n",
    "pd.read_sql_query(\"SHOW TABLES\", presto_conn)"
   ]
  },
  {
   "cell_type": "markdown",
   "metadata": {},
   "source": [
    "Now let's run a query to get all of the data from the `event_parameters` table and load it into a Pandas dataframe."
   ]
  },
  {
   "cell_type": "code",
   "execution_count": null,
   "metadata": {},
   "outputs": [],
   "source": [
    "# https://stackoverflow.com/questions/55988436/how-to-convert-a-presto-query-output-to-a-python-data-frame\n",
    "event_parameters = pd.read_sql_query(\"SELECT * from event_parameters\", presto_conn)\n",
    "event_parameters.tail()"
   ]
  },
  {
   "cell_type": "markdown",
   "metadata": {},
   "source": [
    "Let's do the same thing for the data in the `all_events` table."
   ]
  },
  {
   "cell_type": "code",
   "execution_count": null,
   "metadata": {},
   "outputs": [],
   "source": [
    "all_events = pd.read_sql_query(\"SELECT * from all_events\", presto_conn)\n",
    "all_events.tail()"
   ]
  },
  {
   "cell_type": "markdown",
   "metadata": {},
   "source": [
    "Now let's try to answer business question #1 - What are all the counts per event type? We can do this using a simple groupby statement on our `all_events` dataframe and then writing the output to a JSON file titled `event_type_count.json`."
   ]
  },
  {
   "cell_type": "code",
   "execution_count": null,
   "metadata": {},
   "outputs": [],
   "source": [
    "event_type_count = all_events.groupby('event_type').size()\n",
    "event_type_count.to_json(\"event_type_count.json\", orient='columns')"
   ]
  },
  {
   "cell_type": "markdown",
   "metadata": {},
   "source": [
    "Note that `event_type_count.json` should exist in your directory after running the code above.\n"
   ]
  },
  {
   "cell_type": "code",
   "execution_count": null,
   "metadata": {},
   "outputs": [],
   "source": [
    "query_data = mutil.get_data_from_file(os.path.join(mutil.get_this_dir(),\"hive_queries\",\"all_events.sql\"))\n",
    "\n",
    "all_events = pd.read_sql_query(query_data, presto_conn)\n",
    "all_events.head()"
   ]
  },
  {
   "cell_type": "markdown",
   "metadata": {},
   "source": [
    "Now let's answer business question #2 - What are all the parameters that were given for the `user` parameter? We can do this by running a slightly more complex query on our dataframe and again writing the output to a JSON file."
   ]
  },
  {
   "cell_type": "code",
   "execution_count": null,
   "metadata": {},
   "outputs": [],
   "source": [
    "# Question: What are all the parameters that were given for the `user` parameter?\n",
    "user_parameter_count = event_parameters.where(event_parameters['parameter_name'] == 'user').groupby('parameter_value').size()\n",
    "user_parameter_count.to_json(\"user_parameter_count.json\", orient='columns')\n",
    "\n",
    "query_data = mutil.get_data_from_file(os.path.join(mutil.get_this_dir(),\"hive_queries\",\"get_user_event_counts.hsql\"))\n",
    "\n",
    "events_by_user = pd.read_sql_query(query_data, presto_conn)\n",
    "\n",
    "events_by_user.head(15)\n"
   ]
  },
  {
   "cell_type": "markdown",
   "metadata": {},
   "source": [
    "## Turbo Charge Reporting -- Primative Visualization\n",
    "\n",
    "Add smarter queries.\n",
    "Add some graphs."
   ]
  },
  {
   "cell_type": "code",
   "execution_count": null,
   "metadata": {},
   "outputs": [],
   "source": [
    "query_dir_dict = mutil.load_subdirs_into_dict(os.path.join(mutil.get_this_dir(),\"hive_queries\",\"report_queries\"),\"sql\")\n",
    "\n",
    "rep_for_display = dict()\n",
    "\n",
    "for qd in query_dir_dict[\"report_queries\"]:\n",
    "    for key in qd.keys():\n",
    "        if \".sql_content\" in key:\n",
    "            name = key.replace(\".sql_content\",\"\")\n",
    "            #if \"GET EVENT TOTALS\" in name:\n",
    "            display(HTML(name))\n",
    "            report_payload = pd.read_sql_query(qd[key], presto_conn)\n",
    "            display(report_payload)\n",
    "            rep_for_display[name]=report_payload\n",
    "        "
   ]
  },
  {
   "cell_type": "code",
   "execution_count": null,
   "metadata": {},
   "outputs": [],
   "source": [
    "fig, axs = plt.subplots(1,2, figsize=(14, 7))\n",
    "df = rep_for_display[\"GET EVENT TOTALS\"]\n",
    "df.index=df[\"event_type\"]\n",
    "display(HTML(\"GET EVENT TOTALS\"))\n",
    "df.plot.bar(x='event_type',y='event_count',rot=0,ax=axs[0])\n",
    "df.plot.pie(y='event_count', rot=90,ax=axs[1]).get_legend().remove()"
   ]
  },
  {
   "cell_type": "code",
   "execution_count": null,
   "metadata": {},
   "outputs": [],
   "source": [
    "fig, axs = plt.subplots(1,2, figsize=(14, 7))\n",
    "df = rep_for_display[\"LOOK AT 10 MOST POPULAR SWORDS\"]\n",
    "df.index=df[\"sword_name\"]\n",
    "display(HTML(\"LOOK AT 10 MOST POPULAR SWORDS\"))\n",
    "df.plot.bar(x='sword_name',y='popular_sword_count',rot=45,ax=axs[0])\n",
    "df.plot.pie(y='popular_sword_count', rot=45,ax=axs[1]).get_legend().remove()"
   ]
  },
  {
   "cell_type": "code",
   "execution_count": null,
   "metadata": {},
   "outputs": [],
   "source": [
    "fig, axs = plt.subplots(1,2, figsize=(14, 7))\n",
    "df = rep_for_display[\"LOOK USER GUILD JOIN COUNT\"]\n",
    "display(HTML(\"LOOK USER GUILD JOIN COUNT\"))\n",
    "\n",
    "df.index=df[\"user_name\"]\n",
    "df.plot.bar(x='user_name',y='guid_join_count',rot=45,ax=axs[0])\n",
    "df.plot.pie(y='guid_join_count', rot=45,ax=axs[1]).get_legend().remove()"
   ]
  },
  {
   "cell_type": "markdown",
   "metadata": {},
   "source": [
    "Now that we have answered the business questions and generated JSON reports with the answers, we can close our Presto connection."
   ]
  },
  {
   "cell_type": "code",
   "execution_count": null,
   "metadata": {},
   "outputs": [],
   "source": [
    "presto_conn.close()"
   ]
  }
 ],
 "metadata": {
  "environment": {
   "name": "common-cpu.m78",
   "type": "gcloud",
   "uri": "gcr.io/deeplearning-platform-release/base-cpu:m78"
  },
  "kernelspec": {
   "display_name": "Python 3",
   "language": "python",
   "name": "python3"
  },
  "language_info": {
   "codemirror_mode": {
    "name": "ipython",
    "version": 3
   },
   "file_extension": ".py",
   "mimetype": "text/x-python",
   "name": "python",
   "nbconvert_exporter": "python",
   "pygments_lexer": "ipython3",
   "version": "3.5.2"
  }
 },
 "nbformat": 4,
 "nbformat_minor": 5
}
